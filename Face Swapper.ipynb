{
 "cells": [
  {
   "cell_type": "code",
   "execution_count": 1,
   "metadata": {
    "collapsed": true
   },
   "outputs": [],
   "source": [
    "import cv2\n",
    "import dlib\n",
    "import numpy\n",
    "from time import sleep\n",
    "import sys\n",
    "\n",
    "PREDICTOR_PATH = \"G:\\Anaconda3\\shape_predictor_68_face_landmarks.dat\"\n",
    "SCALE_FACTOR = 1 \n",
    "FEATHER_AMOUNT = 11\n",
    "\n",
    "FACE_POINTS = list(range(17, 68))\n",
    "MOUTH_POINTS = list(range(48, 61))\n",
    "RIGHT_BROW_POINTS = list(range(17, 22))\n",
    "LEFT_BROW_POINTS = list(range(22, 27))\n",
    "RIGHT_EYE_POINTS = list(range(36, 42))\n",
    "LEFT_EYE_POINTS = list(range(42, 48))\n",
    "NOSE_POINTS = list(range(27, 35))\n",
    "JAW_POINTS = list(range(0, 17))\n",
    "\n",
    "ALIGN_POINTS = (LEFT_BROW_POINTS + RIGHT_EYE_POINTS + LEFT_EYE_POINTS +\n",
    "                               RIGHT_BROW_POINTS + NOSE_POINTS + MOUTH_POINTS)\n",
    "\n",
    "OVERLAY_POINTS = [\n",
    "    LEFT_EYE_POINTS + RIGHT_EYE_POINTS + LEFT_BROW_POINTS + RIGHT_BROW_POINTS,\n",
    "    NOSE_POINTS + MOUTH_POINTS,\n",
    "]\n",
    "\n",
    "COLOUR_CORRECT_BLUR_FRAC = 0.6\n",
    "cascade_path='Haarcascades/haarcascade_frontalface_default.xml'\n",
    "cascade = cv2.CascadeClassifier(cascade_path)\n",
    "detector = dlib.get_frontal_face_detector()\n",
    "predictor = dlib.shape_predictor(PREDICTOR_PATH)\n",
    "\n",
    "def get_landmarks(im, dlibOn):\n",
    "    \n",
    "    if(dlibOn == True):\n",
    "        rects = detector(im, 1)\n",
    "        if len(rects) > 1:\n",
    "            return \"error\"\n",
    "        if len(rects) == 0:\n",
    "            return \"error\"\n",
    "        return numpy.matrix([[p.x, p.y] for p in predictor(im, rects[0]).parts()])\n",
    "    else:\n",
    "        rects = cascade.detectMultiScale(im, 1.3, 5)\n",
    "        if len(rects) > 1:\n",
    "            return \"error\"\n",
    "        if len(rects) == 0:\n",
    "            return \"error\"\n",
    "        x, y, w, h = rects[0]\n",
    "        rect = dlib.rectangle(x, y, x+w, y+h)\n",
    "        return numpy.matrix([[p.x, p.y] for p in predictor(im, rect).parts()])\n",
    "\n",
    "de\n",
    "        \n",
    "        \n"
   ]
  }
 ],
 "metadata": {
  "kernelspec": {
   "display_name": "Python 3",
   "language": "python",
   "name": "python3"
  },
  "language_info": {
   "codemirror_mode": {
    "name": "ipython",
    "version": 3
   },
   "file_extension": ".py",
   "mimetype": "text/x-python",
   "name": "python",
   "nbconvert_exporter": "python",
   "pygments_lexer": "ipython3",
   "version": "3.6.1"
  }
 },
 "nbformat": 4,
 "nbformat_minor": 2
}
